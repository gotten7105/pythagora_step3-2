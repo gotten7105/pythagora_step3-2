{
 "cells": [
  {
   "cell_type": "code",
   "execution_count": 1,
   "metadata": {},
   "outputs": [
    {
     "name": "stdout",
     "output_type": "stream",
     "text": [
      "Requirement already satisfied: SQLAlchemy in c:\\users\\zip-b\\appdata\\local\\programs\\python\\python311\\lib\\site-packages (2.0.23)\n",
      "Requirement already satisfied: typing-extensions>=4.2.0 in c:\\users\\zip-b\\appdata\\local\\programs\\python\\python311\\lib\\site-packages (from SQLAlchemy) (4.9.0)\n",
      "Requirement already satisfied: greenlet!=0.4.17 in c:\\users\\zip-b\\appdata\\local\\programs\\python\\python311\\lib\\site-packages (from SQLAlchemy) (3.0.2)\n",
      "Note: you may need to restart the kernel to use updated packages.\n"
     ]
    }
   ],
   "source": [
    "pip install SQLAlchemy"
   ]
  },
  {
   "cell_type": "code",
   "execution_count": 1,
   "metadata": {},
   "outputs": [
    {
     "name": "stdout",
     "output_type": "stream",
     "text": [
      "2.0.23\n"
     ]
    }
   ],
   "source": [
    "import sqlalchemy\n",
    "print(sqlalchemy.__version__)"
   ]
  },
  {
   "cell_type": "markdown",
   "metadata": {},
   "source": [
    "DBデータ取得"
   ]
  },
  {
   "cell_type": "code",
   "execution_count": 8,
   "metadata": {},
   "outputs": [
    {
     "name": "stdout",
     "output_type": "stream",
     "text": [
      "[\n",
      "    {\n",
      "        \"user_id\": 1,\n",
      "        \"user_name\": \"中村剛\",\n",
      "        \"mail_address\": null,\n",
      "        \"password\": \"0\",\n",
      "        \"company\": \"ピタゴラ不動産\",\n",
      "        \"working_area\": \"大阪\",\n",
      "        \"last_update\": \"2023-12-28\"\n",
      "    },\n",
      "    {\n",
      "        \"user_id\": 2,\n",
      "        \"user_name\": \"三村和香\",\n",
      "        \"mail_address\": null,\n",
      "        \"password\": \"0\",\n",
      "        \"company\": \"ピタゴラ不動産\",\n",
      "        \"working_area\": \"大阪\",\n",
      "        \"last_update\": \"2023-12-28\"\n",
      "    },\n",
      "    {\n",
      "        \"user_id\": 3,\n",
      "        \"user_name\": \"寺尾真二\",\n",
      "        \"mail_address\": \"tear0mark2@gmail.com\",\n",
      "        \"password\": \"0\",\n",
      "        \"company\": \"ピタゴラ不動産\",\n",
      "        \"working_area\": \"大阪\",\n",
      "        \"last_update\": \"2023-12-28\"\n",
      "    },\n",
      "    {\n",
      "        \"user_id\": 4,\n",
      "        \"user_name\": \"本橋\",\n",
      "        \"mail_address\": null,\n",
      "        \"password\": \"0\",\n",
      "        \"company\": \"ピタゴラ不動産\",\n",
      "        \"working_area\": \"大阪\",\n",
      "        \"last_update\": \"2023-12-28\"\n",
      "    },\n",
      "    {\n",
      "        \"user_id\": 5,\n",
      "        \"user_name\": \"川名功泰\",\n",
      "        \"mail_address\": \"\",\n",
      "        \"password\": \"0000\",\n",
      "        \"company\": \"セイコーエプソン\",\n",
      "        \"working_area\": \"長野\",\n",
      "        \"last_update\": \"2023-12-30 16:32:50.103532\"\n",
      "    },\n",
      "    {\n",
      "        \"user_id\": 6,\n",
      "        \"user_name\": \"坂口綾香\",\n",
      "        \"mail_address\": \"\",\n",
      "        \"password\": \"0000\",\n",
      "        \"company\": \"コクヨ\",\n",
      "        \"working_area\": \"東京都品川区\",\n",
      "        \"last_update\": \"2023-12-30 16:32:50.103532\"\n",
      "    }\n",
      "]\n"
     ]
    }
   ],
   "source": [
    "import json\n",
    "from sqlalchemy import create_engine, text\n",
    "\n",
    "# データベースエンジンの作成\n",
    "engine = create_engine('sqlite:///Cheers_DB.db')   #///以降に各自Cheers_DB.dbの置いた場所を設定下さい！\n",
    "connection = engine.connect()\n",
    "\n",
    "# SQLクエリの実行\n",
    "result = connection.execute(text(\"SELECT * FROM users\"))\n",
    "\n",
    "# 結果を辞書のリストとして取得\n",
    "rows = [{column: value for column, value in zip(result.keys(), row)} for row in result]\n",
    "\n",
    "# JSON形式に変換（非ASCII文字をエスケープしない）\n",
    "json_result = json.dumps(rows, ensure_ascii=False, indent=4)\n",
    "\n",
    "# JSON形式の結果を出力\n",
    "print(json_result)\n",
    "\n",
    "# コネクションのクローズ\n",
    "connection.close()\n",
    "\n",
    "\n",
    "\n"
   ]
  },
  {
   "cell_type": "markdown",
   "metadata": {},
   "source": []
  },
  {
   "cell_type": "markdown",
   "metadata": {},
   "source": [
    "guests Tableにデータ追加"
   ]
  },
  {
   "cell_type": "code",
   "execution_count": 7,
   "metadata": {},
   "outputs": [
    {
     "name": "stdout",
     "output_type": "stream",
     "text": [
      "データの挿入に成功しました。\n"
     ]
    }
   ],
   "source": [
    "from sqlalchemy import create_engine, text\n",
    "from datetime import datetime\n",
    "\n",
    "now = datetime.now()\n",
    "\n",
    "# データベースエンジンの作成\n",
    "engine = create_engine('sqlite:///Cheers_DB.db')\n",
    "\n",
    "# データベースに接続\n",
    "with engine.connect() as connection:\n",
    "    # トランザクションの開始\n",
    "    trans = connection.begin()\n",
    "\n",
    "    try:\n",
    "        # データの挿入\n",
    "        connection.execute(text(\"\"\"\n",
    "            INSERT INTO guests (\n",
    "                guest_id,\n",
    "                guest_name,\n",
    "                guest_class,\n",
    "                user_id,\n",
    "                guest_category1,\n",
    "                guest_category2,\n",
    "                guest_category3,\n",
    "                guest_memo,\n",
    "                last_update\n",
    "            ) VALUES (\n",
    "                :guest_id,\n",
    "                :guest_name,\n",
    "                :guest_class,\n",
    "                :user_id,\n",
    "                :guest_category1,\n",
    "                :guest_category2,\n",
    "                :guest_category3,\n",
    "                :guest_memo,\n",
    "                :last_update\n",
    "            )\"\"\"),\n",
    "            [{\"guest_id\": 1,\n",
    "              \"guest_name\": \"濱田隼斗\",\n",
    "              \"guest_class\": \"CEO\",\n",
    "              \"user_id\": 3,\n",
    "              \"guest_category1\": \"鮨\",\n",
    "              \"guest_category2\": \"焼肉\",\n",
    "              \"guest_category3\": \" \",\n",
    "              \"guest_memo\": \"飲み会大好きです！\",\n",
    "              \"last_update\": now\n",
    "             },\n",
    "             {\"guest_id\": 2,\n",
    "              \"guest_name\": \"鍵冨康太郎\",\n",
    "              \"guest_class\": \"CFO\",\n",
    "              \"user_id\": 3,\n",
    "              \"guest_category1\": \" \",\n",
    "              \"guest_category2\": \" \",\n",
    "              \"guest_category3\": \" \",\n",
    "              \"guest_memo\": \"ローマが好きなので、きっとイタリアン好きだと思う\",\n",
    "              \"last_update\": now\n",
    "             }]\n",
    "        )\n",
    "\n",
    "        # トランザクションのコミット\n",
    "        trans.commit()\n",
    "        print(\"データの挿入に成功しました。\")\n",
    "    except Exception as e:\n",
    "        # 何か問題が発生した場合、トランザクションをロールバック\n",
    "        trans.rollback()\n",
    "        print(f\"エラーが発生しました: {e}\")"
   ]
  },
  {
   "cell_type": "markdown",
   "metadata": {},
   "source": [
    "events Tableにデータ追加"
   ]
  },
  {
   "cell_type": "code",
   "execution_count": 12,
   "metadata": {},
   "outputs": [
    {
     "name": "stdout",
     "output_type": "stream",
     "text": [
      "データの挿入に成功しました。\n"
     ]
    }
   ],
   "source": [
    "from sqlalchemy import create_engine, text\n",
    "from datetime import datetime\n",
    "\n",
    "now = datetime.now()\n",
    "\n",
    "# データベースエンジンの作成\n",
    "engine = create_engine('sqlite:///Cheers_DB.db')\n",
    "\n",
    "# データベースに接続\n",
    "with engine.connect() as connection:\n",
    "    # トランザクションの開始\n",
    "    trans = connection.begin()\n",
    "\n",
    "    try:\n",
    "        # データの挿入\n",
    "        connection.execute(text(\"\"\"\n",
    "            INSERT INTO events (\n",
    "                event_id,\n",
    "                event_name,\n",
    "                restaurant_id,\n",
    "                user_id,\n",
    "                event_date,\n",
    "                event_time,\n",
    "                event_charge,\n",
    "                event_area,\n",
    "                executive_secretary_id,\n",
    "                attendees,\n",
    "                last_update\n",
    "            ) VALUES (\n",
    "                :event_id,\n",
    "                :event_name,\n",
    "                :restaurant_id,\n",
    "                :user_id,\n",
    "                :event_date,\n",
    "                :event_time,\n",
    "                :event_charge,\n",
    "                :event_area,\n",
    "                :executive_secretary_id,\n",
    "                :attendees,\n",
    "                :last_update\n",
    "            )\"\"\"),\n",
    "            [{\"event_id\": 1,\n",
    "            \"event_name\": \"ピタゴラスイッチ忘年会\",\n",
    "            \"restaurant_id\": \"1\",\n",
    "            \"user_id\": 1,\n",
    "            \"event_date\": \"2023-12-30\",\n",
    "            \"event_time\": \"21:00\",\n",
    "            \"event_charge\": 7000,\n",
    "            \"event_area\": \"大阪駅\",\n",
    "            \"executive_secretary_id\": 1,\n",
    "            \"attendees\": 5,\n",
    "            \"last_update\": now\n",
    "            },\n",
    "            {\"event_id\": 2,\n",
    "            \"event_name\": \"Tech0でピタゴラスイッチを語る会\",\n",
    "            \"restaurant_id\": \"2\",\n",
    "            \"user_id\": 1,\n",
    "            \"event_date\": \"2024-1-17\",\n",
    "            \"event_time\": \"21:00\",\n",
    "            \"event_charge\": 6000,\n",
    "            \"event_area\": \"大阪駅\",\n",
    "            \"executive_secretary_id\": 2,\n",
    "            \"attendees\": 6,\n",
    "            \"last_update\": now\n",
    "            }]\n",
    "        )\n",
    "\n",
    "        # トランザクションのコミット\n",
    "        trans.commit()\n",
    "        print(\"データの挿入に成功しました。\")\n",
    "    except Exception as e:\n",
    "        # 何か問題が発生した場合、トランザクションをロールバック\n",
    "        trans.rollback()\n",
    "        print(f\"エラーが発生しました: {e}\")"
   ]
  },
  {
   "cell_type": "markdown",
   "metadata": {},
   "source": [
    "User Tableにデータ追加"
   ]
  },
  {
   "cell_type": "code",
   "execution_count": 14,
   "metadata": {},
   "outputs": [
    {
     "name": "stdout",
     "output_type": "stream",
     "text": [
      "データの挿入に成功しました。\n"
     ]
    }
   ],
   "source": [
    "from sqlalchemy import create_engine, text\n",
    "from datetime import datetime\n",
    "\n",
    "now = datetime.now()\n",
    "\n",
    "# データベースエンジンの作成\n",
    "engine = create_engine('sqlite:///Cheers_DB.db')\n",
    "\n",
    "# データベースに接続\n",
    "with engine.connect() as connection:\n",
    "    # トランザクションの開始\n",
    "    trans = connection.begin()\n",
    "\n",
    "    try:\n",
    "        # データの挿入\n",
    "        connection.execute(text(\"\"\"\n",
    "            INSERT INTO users (\n",
    "                user_id,\n",
    "                user_name,\n",
    "                mail_address,\n",
    "                password,\n",
    "                company,\n",
    "                working_area,\n",
    "                last_update\n",
    "            ) VALUES (\n",
    "                :user_id,\n",
    "                :user_name,\n",
    "                :mail_address,\n",
    "                :password,\n",
    "                :company,\n",
    "                :working_area,\n",
    "                :last_update\n",
    "            )\"\"\"),\n",
    "            [{\"user_id\": 5,\n",
    "            \"user_name\": \"川名功泰\",\n",
    "            \"mail_address\": \"\",\n",
    "            \"password\": \"0000\",\n",
    "            \"company\": \"セイコーエプソン\",\n",
    "            \"working_area\": \"長野\",\n",
    "            \"last_update\": now\n",
    "            },\n",
    "            {\"user_id\": 6,\n",
    "            \"user_name\": \"坂口綾香\",\n",
    "            \"mail_address\": \"\",\n",
    "            \"password\": \"0000\",\n",
    "            \"company\": \"コクヨ\",\n",
    "            \"working_area\": \"東京都品川区\",\n",
    "            \"last_update\": now\n",
    "            },]\n",
    "        )\n",
    "\n",
    "        # トランザクションのコミット\n",
    "        trans.commit()\n",
    "        print(\"データの挿入に成功しました。\")\n",
    "    except Exception as e:\n",
    "        # 何か問題が発生した場合、トランザクションをロールバック\n",
    "        trans.rollback()\n",
    "        print(f\"エラーが発生しました: {e}\")"
   ]
  },
  {
   "cell_type": "markdown",
   "metadata": {},
   "source": [
    "restaurant Tableにデータ追加"
   ]
  },
  {
   "cell_type": "code",
   "execution_count": 16,
   "metadata": {},
   "outputs": [
    {
     "name": "stdout",
     "output_type": "stream",
     "text": [
      "データの挿入に成功しました。\n"
     ]
    }
   ],
   "source": [
    "from sqlalchemy import create_engine, text\n",
    "from datetime import datetime\n",
    "\n",
    "now = datetime.now()\n",
    "\n",
    "# データベースエンジンの作成\n",
    "engine = create_engine('sqlite:///Cheers_DB.db')\n",
    "\n",
    "# データベースに接続\n",
    "with engine.connect() as connection:\n",
    "    # トランザクションの開始\n",
    "    trans = connection.begin()\n",
    "\n",
    "    try:\n",
    "        # データの挿入\n",
    "        connection.execute(text(\"\"\"\n",
    "            INSERT INTO restaurants (\n",
    "                restaurant_id,\n",
    "                restaurant_name,\n",
    "                genre,\n",
    "                average_charge,\n",
    "                restaurant_url,\n",
    "                restaurant_image,\n",
    "                restaurant_public_evaluation,\n",
    "                restaurant_address,\n",
    "                regular_holiday,\n",
    "                last_update\n",
    "            ) VALUES (\n",
    "                :restaurant_id,\n",
    "                :restaurant_name,\n",
    "                :genre,\n",
    "                :average_charge,\n",
    "                :restaurant_url,\n",
    "                :restaurant_image,\n",
    "                :restaurant_public_evaluation,\n",
    "                :restaurant_address,\n",
    "                :regular_holiday,\n",
    "                :last_update\n",
    "            )\"\"\"),\n",
    "            [{\"restaurant_id\": 1,\n",
    "            \"restaurant_name\": \"活海老バル orb ウラなんば\",\n",
    "            \"genre\": \"海鮮、バル、居酒屋\",\n",
    "            \"average_charge\": \"￥3,000～￥3,999\",\n",
    "            \"restaurant_url\": \"https://tabelog.com/osaka/A2701/A270202/27075763/\",\n",
    "            \"restaurant_image\": \"https://tblg.k-img.com/restaurant/images/Rvw/204132/320x320_square_42026959c48608bc871a205ad787ab56.jpg\",\n",
    "            \"restaurant_public_evaluation\": 3.01,\n",
    "            \"restaurant_address\": \"大阪市中央区難波千日前2-17\",\n",
    "            \"regular_holiday\": \"無休\",\n",
    "            \"last_update\": now\n",
    "            },\n",
    "            {\"restaurant_id\": 2,\n",
    "            \"restaurant_name\": \"北新地 小野肉商店\",\n",
    "            \"genre\": \"焼肉、ホルモン、居酒屋\",\n",
    "            \"average_charge\": \"￥6,000～￥7,999\",\n",
    "            \"restaurant_url\": \"https://tabelog.com/osaka/A2701/A270101/27124023/\",\n",
    "            \"restaurant_image\": \"https://tblg.k-img.com/restaurant/images/Rvw/219899/320x320_square_bd61e5fff3f93264ef39e1359ac2271a.jpg\",\n",
    "            \"restaurant_public_evaluation\": 3.08,\n",
    "            \"restaurant_address\": \"大阪市北区曽根崎新地1-2-16\",\n",
    "            \"regular_holiday\": \"日・祝\",\n",
    "            \"last_update\": now\n",
    "            },]\n",
    "        )\n",
    "\n",
    "        # トランザクションのコミット\n",
    "        trans.commit()\n",
    "        print(\"データの挿入に成功しました。\")\n",
    "    except Exception as e:\n",
    "        # 何か問題が発生した場合、トランザクションをロールバック\n",
    "        trans.rollback()\n",
    "        print(f\"エラーが発生しました: {e}\")"
   ]
  },
  {
   "cell_type": "markdown",
   "metadata": {},
   "source": [
    "participant_information　Tableにデータ追加"
   ]
  },
  {
   "cell_type": "code",
   "execution_count": 22,
   "metadata": {},
   "outputs": [
    {
     "name": "stdout",
     "output_type": "stream",
     "text": [
      "データの挿入に成功しました。\n"
     ]
    }
   ],
   "source": [
    "from sqlalchemy import create_engine, text\n",
    "from datetime import datetime\n",
    "\n",
    "now = datetime.now()\n",
    "\n",
    "# データベースエンジンの作成\n",
    "engine = create_engine('sqlite:///Cheers_DB.db')\n",
    "\n",
    "# データベースに接続\n",
    "with engine.connect() as connection:\n",
    "    # トランザクションの開始\n",
    "    trans = connection.begin()\n",
    "\n",
    "    try:\n",
    "        # データの挿入\n",
    "        connection.execute(text(\"\"\"\n",
    "            INSERT INTO participant_information (\n",
    "                uuid,\n",
    "                event_id,\n",
    "                user_id,\n",
    "                attendance,\n",
    "                restaurant_evaluation,\n",
    "                restaurant_comment,\n",
    "                event_evaluation,\n",
    "                event_comment,\n",
    "                last_update\n",
    "            ) VALUES (\n",
    "                :uuid,\n",
    "                :event_id,\n",
    "                :user_id,\n",
    "                :attendance,\n",
    "                :restaurant_evaluation,\n",
    "                :restaurant_comment,\n",
    "                :event_evaluation,\n",
    "                :event_comment,\n",
    "                :last_update\n",
    "            )\"\"\"),\n",
    "            [{\"uuid\": 1,\n",
    "            \"event_id\": 1,\n",
    "            \"user_id\": 1,\n",
    "            \"attendance\": 1, # 1:出席, 2:欠席\n",
    "            \"restaurant_evaluation\": 3,\n",
    "            \"restaurant_comment\": \"飲み放題で飲み物が届くのが遅い\",\n",
    "            \"event_evaluation\": 5,\n",
    "            \"event_comment\": \"濱田さん楽しそうでよかった！\",\n",
    "            \"last_update\": now\n",
    "            },\n",
    "            {\"uuid\": 2,\n",
    "            \"event_id\": 1,\n",
    "            \"user_id\": 2,\n",
    "            \"attendance\": 1, # 1:出席, 2:欠席\n",
    "            \"restaurant_evaluation\": 4,\n",
    "            \"restaurant_comment\": \"特になし\",\n",
    "            \"event_evaluation\": 5,\n",
    "            \"event_comment\": \"寺尾さんお酒弱すぎ、飲ませちゃいけない\",\n",
    "            \"last_update\": now\n",
    "            },\n",
    "            {\"uuid\": 3,\n",
    "            \"event_id\": 1,\n",
    "            \"user_id\": 3,\n",
    "            \"attendance\": 1, # 1:出席, 2:欠席\n",
    "            \"restaurant_evaluation\": 4,\n",
    "            \"restaurant_comment\": \"特になし\",\n",
    "            \"event_evaluation\": 4,\n",
    "            \"event_comment\": \"三村さん日本酒好きだって\",\n",
    "            \"last_update\": now\n",
    "            },\n",
    "            {\"uuid\": 4,\n",
    "            \"event_id\": 1,\n",
    "            \"user_id\": 4,\n",
    "            \"attendance\": 1, # 1:出席, 2:欠席\n",
    "            \"restaurant_evaluation\": 5,\n",
    "            \"restaurant_comment\": \"烏賊刺し美味しかった！！！\",\n",
    "            \"event_evaluation\": 3,\n",
    "            \"event_comment\": \"酔って記憶がない\",\n",
    "            \"last_update\": now\n",
    "            },\n",
    "            ]\n",
    "        )\n",
    "\n",
    "        # トランザクションのコミット\n",
    "        trans.commit()\n",
    "        print(\"データの挿入に成功しました。\")\n",
    "    except Exception as e:\n",
    "        # 何か問題が発生した場合、トランザクションをロールバック\n",
    "        trans.rollback()\n",
    "        print(f\"エラーが発生しました: {e}\")"
   ]
  },
  {
   "cell_type": "markdown",
   "metadata": {},
   "source": [
    "Tableの上書き"
   ]
  },
  {
   "cell_type": "code",
   "execution_count": 25,
   "metadata": {},
   "outputs": [
    {
     "name": "stdout",
     "output_type": "stream",
     "text": [
      "データの更新に成功しました。\n"
     ]
    }
   ],
   "source": [
    "from sqlalchemy import create_engine, text\n",
    "from datetime import datetime\n",
    "\n",
    "# データベースエンジンの作成\n",
    "engine = create_engine('sqlite:///Cheers_DB.db')\n",
    "\n",
    "# データベースに接続\n",
    "with engine.connect() as connection:\n",
    "    # トランザクションの開始\n",
    "    trans = connection.begin()\n",
    "\n",
    "    try:\n",
    "        # 特定のユーザーのデータを更新\n",
    "        connection.execute(text(\"\"\"\n",
    "            UPDATE participant_information\n",
    "            SET event_comment = :event_comment\n",
    "            WHERE user_id = :user_id\n",
    "        \"\"\"), {\n",
    "            \"event_comment\": \"剛さん幹事ありがとう！迷惑おかけしました\",\n",
    "            \"user_id\": 4  # 更新したいユーザーのID\n",
    "        })\n",
    "\n",
    "        # トランザクションのコミット\n",
    "        trans.commit()\n",
    "        print(\"データの更新に成功しました。\")\n",
    "    except Exception as e:\n",
    "        # エラーが発生した場合、トランザクションをロールバック\n",
    "        trans.rollback()\n",
    "        print(f\"更新に失敗しました: {e}\")\n"
   ]
  },
  {
   "cell_type": "markdown",
   "metadata": {},
   "source": [
    "JupyterLabでFlaskの出力を確認する方法"
   ]
  },
  {
   "cell_type": "code",
   "execution_count": 12,
   "metadata": {},
   "outputs": [
    {
     "data": {
      "text/plain": [
       "<Response [200]>"
      ]
     },
     "execution_count": 12,
     "metadata": {},
     "output_type": "execute_result"
    }
   ],
   "source": [
    "import requests\n",
    "requests.get(\"http://127.0.0.1:5000\")"
   ]
  },
  {
   "cell_type": "code",
   "execution_count": 14,
   "metadata": {},
   "outputs": [
    {
     "data": {
      "text/plain": [
       "'\\n  <tr>\\n    <td>1</td>\\n    <td>None</td>\\n    <td>0</td>\\n  </tr>\\n\\n  <tr>\\n    <td>2</td>\\n    <td>None</td>\\n    <td>0</td>\\n  </tr>\\n\\n  <tr>\\n    <td>3</td>\\n    <td>tear0mark2@gmail.com</td>\\n    <td>0</td>\\n  </tr>\\n\\n  <tr>\\n    <td>4</td>\\n    <td>None</td>\\n    <td>0</td>\\n  </tr>\\n\\n  <tr>\\n    <td>5</td>\\n    <td></td>\\n    <td>0000</td>\\n  </tr>\\n\\n  <tr>\\n    <td>6</td>\\n    <td></td>\\n    <td>0000</td>\\n  </tr>\\n'"
      ]
     },
     "execution_count": 14,
     "metadata": {},
     "output_type": "execute_result"
    }
   ],
   "source": [
    "import requests\n",
    "requests.get(\"http://127.0.0.1:5000/users\").text\n"
   ]
  }
 ],
 "metadata": {
  "kernelspec": {
   "display_name": "Python 3",
   "language": "python",
   "name": "python3"
  },
  "language_info": {
   "codemirror_mode": {
    "name": "ipython",
    "version": 3
   },
   "file_extension": ".py",
   "mimetype": "text/x-python",
   "name": "python",
   "nbconvert_exporter": "python",
   "pygments_lexer": "ipython3",
   "version": "3.12.1"
  }
 },
 "nbformat": 4,
 "nbformat_minor": 2
}
